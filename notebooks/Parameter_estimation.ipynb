{
 "cells": [
  {
   "attachments": {},
   "cell_type": "markdown",
   "id": "2019140e",
   "metadata": {},
   "source": [
    "# Data overview and parameter estimation\n",
    "This notebook is used to get an overview of the video frames and iteratively estimate the necessary parameters for the gaussian blur and hough transformation. "
   ]
  },
  {
   "cell_type": "code",
   "execution_count": 1,
   "id": "18869366",
   "metadata": {
    "vscode": {
     "languageId": "python"
    }
   },
   "outputs": [],
   "source": [
    "import cv2\n",
    "import json\n",
    "import os\n",
    "from matplotlib import pyplot as plt\n",
    "import numpy as np\n",
    "import random\n",
    "import sys\n",
    "\n",
    "# add parent directory to python search path\n",
    "sys.path.append(os.path.abspath('../'))\n",
    "\n",
    "import config_helper"
   ]
  },
  {
   "cell_type": "code",
   "execution_count": 2,
   "id": "b08e3edf",
   "metadata": {
    "vscode": {
     "languageId": "python"
    }
   },
   "outputs": [],
   "source": [
    "config = config_helper.read_config('../config.json')"
   ]
  },
  {
   "cell_type": "code",
   "execution_count": 3,
   "id": "f6e63d18",
   "metadata": {
    "vscode": {
     "languageId": "python"
    }
   },
   "outputs": [
    {
     "name": "stdout",
     "output_type": "stream",
     "text": [
      "850431 files found!\n"
     ]
    }
   ],
   "source": [
    "files = []\n",
    "\n",
    "for dirpath, dirnames, filenames in os.walk(config['data']):\n",
    "    files.extend([os.path.join(dirpath, file) for file in filenames])\n",
    "\n",
    "print('{} files found!'.format(len(files)))"
   ]
  },
  {
   "cell_type": "code",
   "execution_count": 4,
   "id": "ee243690",
   "metadata": {
    "vscode": {
     "languageId": "python"
    }
   },
   "outputs": [],
   "source": [
    "sample_files = random.sample(files, 9)\n",
    "\n",
    "def show_images(images):\n",
    "    fig, axes = plt.subplots(3, 3, figsize=(10, 10))\n",
    "    \n",
    "    for i in range(3):\n",
    "        for j in range(3):\n",
    "            axes[i, j].imshow(images[3 * i + j])\n",
    "            axes[i, j].axis('off')\n",
    "            file_name = sample_files[3 * i + j].split('/')[-1]\n",
    "            axes[i, j].text(0, -20, file_name, ha='left', size=10)\n",
    "    \n",
    "    plt.subplots_adjust(wspace=0, hspace=0)\n",
    "    plt.show()"
   ]
  },
  {
   "cell_type": "code",
   "execution_count": null,
   "id": "d1b809cc",
   "metadata": {
    "vscode": {
     "languageId": "python"
    }
   },
   "outputs": [],
   "source": [
    "images = []\n",
    "\n",
    "for file in sample_files:\n",
    "    # Load image\n",
    "    img = cv2.imread(file)\n",
    "    \n",
    "    # Convert to gray-scale\n",
    "    gray = cv2.cvtColor(img, cv2.COLOR_BGR2GRAY)\n",
    "    \n",
    "    # Cut the image according to the config\n",
    "    height, width = gray.shape\n",
    "    gray = gray[\n",
    "        config['preprocessing']['crop_top']:height - config['preprocessing']['crop_bottom'], \n",
    "        config['preprocessing']['crop_left']:width - config['preprocessing']['crop_right']\n",
    "    ]\n",
    "    \n",
    "    # Add Gaussian blur\n",
    "    gray = cv2.GaussianBlur(gray, (config['gaussian']['ksize'], config['gaussian']['ksize']), config['gaussian']['sigma'])\n",
    "    \n",
    "    images.append(gray)\n",
    "\n",
    "show_images(images)"
   ]
  },
  {
   "cell_type": "code",
   "execution_count": null,
   "id": "16ea427a",
   "metadata": {
    "vscode": {
     "languageId": "python"
    }
   },
   "outputs": [],
   "source": [
    "hough_circles = []\n",
    "masked_circles = []\n",
    "\n",
    "half_width = int(config['sign_crop_width'] / 2)\n",
    "half_height = int(config['sign_crop_height'] / 2)\n",
    "\n",
    "for image in images:\n",
    "    # Detect circles in the image using the Hough transform\n",
    "    circles = cv2.HoughCircles(image, \n",
    "        cv2.HOUGH_GRADIENT, \n",
    "        config['hough']['dp'], \n",
    "        config['hough']['min_distance'], \n",
    "        param1=config['hough']['param1'], \n",
    "        param2=config['hough']['param2'], \n",
    "        minRadius=config['hough']['min_radius'], \n",
    "        maxRadius=config['hough']['max_radius'])\n",
    "\n",
    "    # create rgb copy of the image\n",
    "    image = cv2.cvtColor(image, cv2.COLOR_GRAY2RGB)\n",
    "\n",
    "    # If circles were detected\n",
    "    if circles is not None:\n",
    "        # Convert the (x, y) coordinates and radius of the circles to integers\n",
    "        circles = np.round(circles[0, :]).astype('int')\n",
    "\n",
    "        # Loop over the circles\n",
    "        for (x, y, r) in circles:\n",
    "            # Crop an image around the circle\n",
    "            crop = image[y - half_height:y + half_height, x - half_width:x + half_width]\n",
    "\n",
    "            # mask the background\n",
    "            mask = np.zeros(crop.shape[:2], np.uint8)\n",
    "            cv2.circle(mask, (half_width, half_height), r, (255, 255, 255), -1)\n",
    "            masked = cv2.bitwise_and(crop, crop, mask=mask)\n",
    "\n",
    "            masked_circles.append(masked)\n",
    "        \n",
    "        # Draw the circles in a seperate step, to avoid parts of the circles in the cropped images\n",
    "        for (x, y, r) in circles:\n",
    "            # Draw the circle on the image\n",
    "            cv2.circle(image, (x, y), r, (0, 255, 0), 2)\n",
    "    \n",
    "    hough_circles.append(image)\n",
    "\n",
    "show_images(hough_circles)\n",
    "\n",
    "for image in masked_circles:\n",
    "    plt.imshow(image)\n",
    "    plt.show()"
   ]
  },
  {
   "cell_type": "code",
   "execution_count": 7,
   "id": "7f8ea937",
   "metadata": {
    "vscode": {
     "languageId": "python"
    }
   },
   "outputs": [],
   "source": [
    "# save parameters to config file\n",
    "\n",
    "with open('../config.json', 'w') as outfile:\n",
    "    json.dump(config, outfile)"
   ]
  }
 ],
 "metadata": {
  "kernelspec": {
   "display_name": "env",
   "language": "python",
   "name": "env"
  },
  "vscode": {
   "interpreter": {
    "hash": "d34e048107d6374d3cea9646043b2e61251dcd1c985769ff52f1f0c817f9fe73"
   }
  }
 },
 "nbformat": 4,
 "nbformat_minor": 5
}
